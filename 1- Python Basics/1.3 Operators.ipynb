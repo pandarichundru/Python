{
 "cells": [
  {
   "cell_type": "code",
   "execution_count": 2,
   "id": "d6892eb6",
   "metadata": {},
   "outputs": [
    {
     "name": "stdout",
     "output_type": "stream",
     "text": [
      "35\n",
      "-15\n",
      "250\n",
      "0.4\n",
      "0\n",
      "10\n",
      "10000000000000000000000000\n"
     ]
    }
   ],
   "source": [
    "# Arithmetic Operation\n",
    "a = 10\n",
    "b = 25\n",
    "sum = a+b\n",
    "sub = a-b\n",
    "mul = a*b\n",
    "div = a/b\n",
    "floor_div = a//b\n",
    "mod = a%b\n",
    "expo = a**b\n",
    "print(sum)\n",
    "print(sub)\n",
    "print(mul)\n",
    "print(div)\n",
    "print(floor_div)\n",
    "print(mod)\n",
    "print(expo)"
   ]
  },
  {
   "cell_type": "code",
   "execution_count": 3,
   "id": "80542677",
   "metadata": {},
   "outputs": [
    {
     "data": {
      "text/plain": [
       "True"
      ]
     },
     "execution_count": 3,
     "metadata": {},
     "output_type": "execute_result"
    }
   ],
   "source": [
    "# Comparision Opeartor\n",
    "# ==\n",
    "a = 10\n",
    "b = 10\n",
    "a==b"
   ]
  },
  {
   "cell_type": "code",
   "execution_count": 5,
   "id": "1dc2bfe9",
   "metadata": {},
   "outputs": [
    {
     "name": "stdout",
     "output_type": "stream",
     "text": [
      "a = True, b = True\n",
      "  a and b     = True\n",
      "  a or b      = True\n",
      "  not a       = False\n",
      "  not b       = False\n",
      "  (a and b) or (not a) = True\n",
      "  not (a or b)         = False\n",
      "a = True, b = False\n",
      "  a and b     = False\n",
      "  a or b      = True\n",
      "  not a       = False\n",
      "  not b       = True\n",
      "  (a and b) or (not a) = False\n",
      "  not (a or b)         = False\n",
      "a = False, b = True\n",
      "  a and b     = False\n",
      "  a or b      = True\n",
      "  not a       = True\n",
      "  not b       = False\n",
      "  (a and b) or (not a) = True\n",
      "  not (a or b)         = False\n",
      "a = False, b = False\n",
      "  a and b     = False\n",
      "  a or b      = False\n",
      "  not a       = True\n",
      "  not b       = True\n",
      "  (a and b) or (not a) = True\n",
      "  not (a or b)         = True\n"
     ]
    }
   ],
   "source": [
    "## AND, NOT and OR\n",
    "# Boolean logic demo with all combinations\n",
    "values = [True, False]\n",
    "\n",
    "for a in values:\n",
    "    for b in values:\n",
    "        print(f\"a = {a}, b = {b}\")\n",
    "        print(f\"  a and b     = {a and b}\")\n",
    "        print(f\"  a or b      = {a or b}\")\n",
    "        print(f\"  not a       = {not a}\")\n",
    "        print(f\"  not b       = {not b}\")\n",
    "        print(f\"  (a and b) or (not a) = {(a and b) or (not a)}\")\n",
    "        print(f\"  not (a or b)         = {not (a or b)}\")\n",
    "        \n"
   ]
  }
 ],
 "metadata": {
  "kernelspec": {
   "display_name": "Python 3",
   "language": "python",
   "name": "python3"
  },
  "language_info": {
   "codemirror_mode": {
    "name": "ipython",
    "version": 3
   },
   "file_extension": ".py",
   "mimetype": "text/x-python",
   "name": "python",
   "nbconvert_exporter": "python",
   "pygments_lexer": "ipython3",
   "version": "3.12.0"
  }
 },
 "nbformat": 4,
 "nbformat_minor": 5
}
