{
 "cells": [
  {
   "cell_type": "markdown",
   "id": "254bb0a6",
   "metadata": {},
   "source": [
    "## Variables\n",
    "Variables are used to store the data in them and also manipulated and referenced in a program. In Python variables are created when we assigned a value to them, and they do not need to need to decxlare explicitly to reserve memory space. The declaration happens automatically when you assign a value to a variable."
   ]
  },
  {
   "cell_type": "code",
   "execution_count": 2,
   "id": "b0cb4f10",
   "metadata": {},
   "outputs": [],
   "source": [
    "## Example\n",
    "a = 10"
   ]
  },
  {
   "cell_type": "code",
   "execution_count": 3,
   "id": "8af174c4",
   "metadata": {},
   "outputs": [
    {
     "name": "stdout",
     "output_type": "stream",
     "text": [
      "age: 24\n",
      "height: 5.9\n",
      "name: Sainath\n"
     ]
    }
   ],
   "source": [
    "## Declaring and Assigning Variables\n",
    "age = 24\n",
    "height = 5.9\n",
    "name = \"Sainath\"\n",
    "is_student = True\n",
    "\n",
    "## printing the variables\n",
    "\n",
    "print(\"age:\",age)\n",
    "print(\"height:\",height)\n",
    "print(\"name:\",name)\n"
   ]
  },
  {
   "cell_type": "code",
   "execution_count": null,
   "id": "c55d9c50",
   "metadata": {},
   "outputs": [],
   "source": [
    "## Naming Convention\n",
    "## Variable names should be descriptive\n",
    "## Variable names always start and with letter or an '-' and contains letter, numbers and underscore '_' \n",
    "## Variable names are case sensitive\n",
    "\n",
    "#valid variable names\n",
    "first_name = \"sai\"\n",
    "second_name = \"nath\""
   ]
  },
  {
   "cell_type": "code",
   "execution_count": 7,
   "id": "973228df",
   "metadata": {},
   "outputs": [
    {
     "name": "stdout",
     "output_type": "stream",
     "text": [
      "pandu\n",
      "veera\n"
     ]
    }
   ],
   "source": [
    "## Case Sensitive\n",
    "name = \"pandu\"\n",
    "Name = \"veera\"\n",
    "name == Name\n",
    "print(name)\n",
    "print(Name)"
   ]
  },
  {
   "cell_type": "code",
   "execution_count": 2,
   "id": "2edf3b81",
   "metadata": {},
   "outputs": [
    {
     "name": "stdout",
     "output_type": "stream",
     "text": [
      "<class 'int'>\n",
      "<class 'float'>\n",
      "<class 'str'>\n",
      "<class 'bool'>\n"
     ]
    }
   ],
   "source": [
    "# Understanding Variable Types \n",
    "# Python is dynamically typed, type of a varaible, type of variable determined at run time\n",
    "age = 24\n",
    "height = 5.9\n",
    "name = \"Sainath\"\n",
    "is_student = True\n",
    "print(type(age))\n",
    "print(type(height))\n",
    "print(type(name))\n",
    "print(type(is_student))"
   ]
  },
  {
   "cell_type": "code",
   "execution_count": 3,
   "id": "68ee1855",
   "metadata": {},
   "outputs": [
    {
     "data": {
      "text/plain": [
       "float"
      ]
     },
     "execution_count": 3,
     "metadata": {},
     "output_type": "execute_result"
    }
   ],
   "source": [
    "# Type Checking and Conversion\n",
    "type(height)"
   ]
  },
  {
   "cell_type": "code",
   "execution_count": 7,
   "id": "f8eeb1ef",
   "metadata": {},
   "outputs": [
    {
     "name": "stdout",
     "output_type": "stream",
     "text": [
      "24\n"
     ]
    }
   ],
   "source": [
    "age = '24'\n",
    "int_age = int(age)\n",
    "print(int_age)"
   ]
  },
  {
   "cell_type": "code",
   "execution_count": 8,
   "id": "18179711",
   "metadata": {},
   "outputs": [
    {
     "data": {
      "text/plain": [
       "int"
      ]
     },
     "execution_count": 8,
     "metadata": {},
     "output_type": "execute_result"
    }
   ],
   "source": [
    "type(int_age)"
   ]
  },
  {
   "cell_type": "code",
   "execution_count": 9,
   "id": "4543da9d",
   "metadata": {},
   "outputs": [
    {
     "data": {
      "text/plain": [
       "float"
      ]
     },
     "execution_count": 9,
     "metadata": {},
     "output_type": "execute_result"
    }
   ],
   "source": [
    "height = 5.9\n",
    "type(height)"
   ]
  },
  {
   "cell_type": "code",
   "execution_count": 12,
   "id": "2899f489",
   "metadata": {},
   "outputs": [
    {
     "name": "stdout",
     "output_type": "stream",
     "text": [
      "5\n",
      "5.0\n"
     ]
    }
   ],
   "source": [
    "print(int(height))\n",
    "print(float(int(height)))"
   ]
  },
  {
   "cell_type": "code",
   "execution_count": 13,
   "id": "1be4f15f",
   "metadata": {},
   "outputs": [
    {
     "name": "stdout",
     "output_type": "stream",
     "text": [
      "10 <class 'int'>\n",
      "hello <class 'str'>\n",
      "3.14 <class 'float'>\n"
     ]
    }
   ],
   "source": [
    "# Dynamic Typing\n",
    "# PYTHON allows the type of variable to change as the program executes\n",
    "var = 10\n",
    "print(var,type(var)) \n",
    "var = \"hello\"\n",
    "print(var,type(var))\n",
    "var = 3.14\n",
    "print(var,type(var))"
   ]
  },
  {
   "cell_type": "code",
   "execution_count": 19,
   "id": "f17f578d",
   "metadata": {},
   "outputs": [
    {
     "name": "stdout",
     "output_type": "stream",
     "text": [
      "23.0 <class 'float'>\n"
     ]
    }
   ],
   "source": [
    "# Input\n",
    "age = float(int(input(\"Enter a Number\")))\n",
    "print(age,type(age))"
   ]
  },
  {
   "cell_type": "code",
   "execution_count": 20,
   "id": "6c442aae",
   "metadata": {},
   "outputs": [
    {
     "name": "stdout",
     "output_type": "stream",
     "text": [
      "9.0\n",
      "1.0\n",
      "20.0\n",
      "1.25\n"
     ]
    }
   ],
   "source": [
    "# Simple Calculator\n",
    "num1 = float(input(\"enter first number\"))\n",
    "num2 = float(input(\"enter second number\"))\n",
    "\n",
    "sum = num1 + num2\n",
    "differ = num1 - num2\n",
    "multiple = num1* num2\n",
    "quotient = num1 / num2\n",
    "\n",
    "print(sum)\n",
    "print(differ)\n",
    "print(multiple)\n",
    "print(quotient)\n"
   ]
  }
 ],
 "metadata": {
  "kernelspec": {
   "display_name": "Python 3",
   "language": "python",
   "name": "python3"
  },
  "language_info": {
   "codemirror_mode": {
    "name": "ipython",
    "version": 3
   },
   "file_extension": ".py",
   "mimetype": "text/x-python",
   "name": "python",
   "nbconvert_exporter": "python",
   "pygments_lexer": "ipython3",
   "version": "3.12.0"
  }
 },
 "nbformat": 4,
 "nbformat_minor": 5
}
